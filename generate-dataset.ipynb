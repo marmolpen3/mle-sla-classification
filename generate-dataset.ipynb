{
 "cells": [
  {
   "cell_type": "code",
   "execution_count": null,
   "metadata": {},
   "outputs": [],
   "source": [
    "!python3 -m spacy download en_core_web_sm\n",
    "\n",
    "import spacy\n",
    "\n",
    "nlp = spacy.load('en_core_web_sm', disable=['ner'])"
   ]
  },
  {
   "cell_type": "code",
   "execution_count": null,
   "metadata": {},
   "outputs": [],
   "source": [
    "def convert_list_to_string(list):\n",
    "    str = \"\"\n",
    "    for l in list:\n",
    "        str = str.replace(\"\\n\", \" \") + l\n",
    "    return str"
   ]
  },
  {
   "cell_type": "code",
   "execution_count": null,
   "metadata": {},
   "outputs": [],
   "source": [
    "agreement1 = convert_list_to_string(open(\"aws_ec2_sla_may_2022.txt\").readlines())\n",
    "agreement2 = convert_list_to_string(open(\"google_engine_sla.txt\").readlines())\n",
    "agreement3 = convert_list_to_string(open(\"oracle_cloud_infrastructure_database_december_2022.txt\").readlines())\n",
    "agreement4 = convert_list_to_string(open(\"twilio_sla_august_2022.txt\").readlines())\n",
    "agreement5 = convert_list_to_string(open(\"microsoft_azure_kubernetes_sla_march_2020.txt\").readlines())\n",
    "agreement6 = convert_list_to_string(open(\"ibm_sla_september_2022.txt\").readlines())\n",
    "agreement7 = convert_list_to_string(open(\"aws_glue_sla_may_2022.txt\").readlines())\n",
    "agreement8 = convert_list_to_string(open(\"aws_cds_sla_may_2022.txt\").readlines())\n",
    "agreement2"
   ]
  },
  {
   "cell_type": "code",
   "execution_count": null,
   "metadata": {},
   "outputs": [],
   "source": [
    "print(\"Procesando con Spacy...\")\n",
    "textos_train = [agreement1, agreement2, agreement3, agreement4]\n",
    "textos_test = [agreement5, agreement7]\n",
    "docs_train = list(nlp.pipe(textos_train))\n",
    "docs_test = list(nlp.pipe(textos_test))\n",
    "print(\"Hecho.\")"
   ]
  },
  {
   "cell_type": "code",
   "execution_count": null,
   "metadata": {},
   "outputs": [],
   "source": [
    "sents_train = []\n",
    "\n",
    "for i in range(len(docs_train)):\n",
    "  for sent in list(docs_train[i].sents):\n",
    "      sentence = str(sent)\n",
    "      sents_train.append(sentence)"
   ]
  },
  {
   "cell_type": "code",
   "execution_count": null,
   "metadata": {},
   "outputs": [],
   "source": [
    "sents_test = []\n",
    "for sent in list(docs_test[0].sents):\n",
    "    sentence = str(sent)\n",
    "    sents_test.append(sentence)"
   ]
  },
  {
   "cell_type": "code",
   "execution_count": null,
   "metadata": {},
   "outputs": [],
   "source": [
    "import pandas as pd\n",
    "\n",
    "df = pd.DataFrame(sents_train, columns=[\"text\", ])\n",
    "df[\"service\"] = 0\n",
    "df[\"metric\"] = 0\n",
    "df[\"objetive\"] = 0\n",
    "df[\"remedies\"] = 0\n",
    "df[\"claim\"] = 0\n",
    "df[\"exception\"] = 0\n",
    "df[\"definition\"] = 0\n",
    "df.fillna(0, inplace=True)\n",
    "df.to_csv(\"train.csv\", index=False, encoding='utf-8')\n",
    "print(df.head())"
   ]
  },
  {
   "cell_type": "code",
   "execution_count": null,
   "metadata": {},
   "outputs": [],
   "source": [
    "import pandas as pd\n",
    "\n",
    "df = pd.DataFrame(sents_test, columns=[\"text\", ])\n",
    "df[\"service\"] = 0\n",
    "df[\"metric\"] = 0\n",
    "df[\"objetive\"] = 0\n",
    "df[\"remedies\"] = 0\n",
    "df[\"claim\"] = 0\n",
    "df[\"exception\"] = 0\n",
    "df[\"definition\"] = 0\n",
    "df.fillna(0, inplace=True)\n",
    "df.to_csv(\"validation.csv\", index=False, encoding='utf-8')\n",
    "print(df.head())"
   ]
  }
 ],
 "metadata": {
  "kernelspec": {
   "display_name": "Python 3",
   "language": "python",
   "name": "python3"
  },
  "language_info": {
   "name": "python",
   "version": "3.10.9 (tags/v3.10.9:1dd9be6, Dec  6 2022, 20:01:21) [MSC v.1934 64 bit (AMD64)]"
  },
  "orig_nbformat": 4,
  "vscode": {
   "interpreter": {
    "hash": "f6f6b64bf5e9684ec218c93f1054efd2bd99a0ffab4ebd29cafffb9a6ca3b770"
   }
  }
 },
 "nbformat": 4,
 "nbformat_minor": 2
}
