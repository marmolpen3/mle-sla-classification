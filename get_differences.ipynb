{
  "cells": [
    {
      "attachments": {},
      "cell_type": "markdown",
      "metadata": {
        "id": "2DULCAFAePJd"
      },
      "source": [
        "# Detector de diferencias"
      ]
    },
    {
      "attachments": {},
      "cell_type": "markdown",
      "metadata": {},
      "source": [
        "En este notebook se buscan las diferencias entre dos versiones de un mismo acuerdo a nivel de servicio. Gracias al paquete diff-match-patch de Google se puede detectar las diferencias entre dos oraciones. \n",
        "\n",
        "Se emplea la librería spacy para dividir el texto en oraciones."
      ]
    },
    {
      "cell_type": "code",
      "execution_count": null,
      "metadata": {
        "id": "qVPuikUhUVKb"
      },
      "outputs": [],
      "source": [
        "!pip install diff-match-patch\n",
        "!python3 -m spacy download en_core_web_sm\n",
        "!pip install pandas"
      ]
    },
    {
      "cell_type": "code",
      "execution_count": 38,
      "metadata": {
        "id": "O-5eUXdRcyA0"
      },
      "outputs": [],
      "source": [
        "import spacy\n",
        "import pandas as pd\n",
        "\n",
        "nlp = spacy.load('en_core_web_sm', disable=['ner'])"
      ]
    },
    {
      "attachments": {},
      "cell_type": "markdown",
      "metadata": {},
      "source": [
        "En primer lugar, se desea ver si las oraciones del texto 1 tienen alguna sentencia similar en el texto 2 o viceversa, para ellos se usa la función get_close_matches del modulo difflib. Posteriormente, se emplea el modulo diff_match_patch para obtener las diferencias entre las palabras de las dos oraciones concretas. Esa información se procesa y se imprime de forma que el texto en negrita es el que difiere."
      ]
    },
    {
      "cell_type": "code",
      "execution_count": 39,
      "metadata": {
        "id": "tWAP893MUdbx"
      },
      "outputs": [],
      "source": [
        "from IPython.display import Markdown, display\n",
        "import diff_match_patch as dmp_module\n",
        "import difflib\n",
        "\n",
        "def printmd(string):\n",
        "    colorstr = \"<span>{}</span>\".format(string)\n",
        "    display(Markdown(colorstr))\n",
        "\n",
        "def open_file(str1, str2):\n",
        "    text1 = open(str1, encoding=\"utf8\")\n",
        "    text2 = open(str2, encoding=\"utf8\")\n",
        "    return text1, text2\n",
        "\n",
        "def close_file(str1, str2):\n",
        "    str1.close()\n",
        "    str2.close()\n",
        "\n",
        "def line_similar(line1, line2):\n",
        "    comparation = line_comparator(line1, line2)\n",
        "    return mark_diferences(comparation) \n",
        "    \n",
        "def line_comparator(line1, line2):\n",
        "    dmp = dmp_module.diff_match_patch()\n",
        "    diff = dmp.diff_main(line1, line2)\n",
        "    dmp.diff_cleanupSemantic(diff)\n",
        "    return diff\n",
        "\n",
        "def aux(i, lines_t1, lines_t2, final_text_1, final_text_2):\n",
        "    if final_text_2[i] is None: \n",
        "        comparation = line_comparator(lines_t1[i], lines_t2[i])\n",
        "        line_t1, line_t2 = mark_diferences(comparation)\n",
        "        final_text_1[i] = line_t1\n",
        "        final_text_2[i] = line_t2\n",
        "    else:\n",
        "        final_text_1[i] = \"**\" + lines_t1[i].strip() + \"** \"\n",
        "    return final_text_1, final_text_2\n",
        "\n",
        "def mark_diferences(comparation):\n",
        "    line_t1 = \"\"\n",
        "    line_t2 = \"\"\n",
        "    for c in comparation:\n",
        "        if c[1].strip() != \"\":\n",
        "            if c[0] == 0:\n",
        "                line_t1 = line_t1 + c[1] \n",
        "                line_t2 = line_t2 + c[1] \n",
        "            elif c[0] == 1:\n",
        "                line_t2 = line_t2 + \"**\" + c[1].strip() + \"** \"\n",
        "            else:\n",
        "                line_t1 = line_t1 + \"**\" + c[1].strip() + \"** \"\n",
        "    return line_t1, line_t2\n",
        "\n",
        "def comparation_process(i, lines_t1, lines_t2, final_text_1, final_text_2):\n",
        "    d = difflib.get_close_matches(lines_t1[i], lines_t2, n=1, cutoff=0.5)\n",
        "    if d:\n",
        "        line_t1, line_t2 = line_similar(lines_t1[i], lines_t2[lines_t2.index(d[0])])\n",
        "        final_text_1[i] = line_t1\n",
        "        final_text_2[lines_t2.index(d[0])] = line_t2\n",
        "    else:\n",
        "        if i < len(lines_t2):\n",
        "            final_text_1, final_text_2 = aux(i, lines_t1, lines_t2, final_text_1, final_text_2)\n",
        "        else:\n",
        "            final_text_1[i] = \"**\" + lines_t1[i].strip() + \"** \"\n",
        "    return final_text_1, final_text_2\n",
        "\n",
        "def complete_text2(final_text_2, lines_t1, lines_t2):\n",
        "    for l in final_text_2:\n",
        "        if l is None:\n",
        "            index = final_text_2.index(l)\n",
        "            d = difflib.get_close_matches(lines_t2[index], lines_t1, n=1, cutoff=0.5)\n",
        "            if d:\n",
        "                line_t2, line_t1 = line_similar(lines_t2[index], lines_t1[lines_t1.index(d[0])])\n",
        "                final_text_2[index] = line_t2\n",
        "            else:\n",
        "                final_text_2[index] = \"**\" + lines_t2[index].strip() + \"** \"\n",
        "    return final_text_2\n",
        "\n",
        "def convert_list_to_string(list):\n",
        "    str = \"\"\n",
        "    for l in list:\n",
        "        str = str + l + \"\\n\"\n",
        "    return str\n",
        "\n",
        "def delete_asterisk(list):\n",
        "    res = []\n",
        "    for l in list:\n",
        "        res.append(l.replace('*', ''))\n",
        "    return res"
      ]
    },
    {
      "cell_type": "code",
      "execution_count": 48,
      "metadata": {
        "id": "Nt0cWSS4WNJV"
      },
      "outputs": [],
      "source": [
        "def comparator(file1, file2):\n",
        "    text1, text2 = open_file(file1, file2)\n",
        "    lines_t1 = delete_asterisk(text1.readlines())\n",
        "    lines_t2 = delete_asterisk(text2.readlines())\n",
        "    final_text_1 = [None for _ in range(len(lines_t1))]\n",
        "    final_text_2 = [None for _ in range(len(lines_t2))]\n",
        "    length = len(lines_t1)\n",
        "    i = 0\n",
        "    while i < length:\n",
        "        final_text_1, final_text_2 = comparation_process(i, lines_t1, lines_t2, final_text_1, final_text_2)\n",
        "        i = i+1\n",
        "    final_text_2 = complete_text2(final_text_2, lines_t1, lines_t2)\n",
        "    return final_text_1, final_text_2"
      ]
    },
    {
      "cell_type": "code",
      "execution_count": 49,
      "metadata": {
        "id": "t5GEK9k6WQKw"
      },
      "outputs": [],
      "source": [
        "v0, v1 = \"slas/aws_glue_sla_january_2019.txt\", \"slas/aws_glue_sla_may_2022.txt\"\n",
        "\n",
        "final_text_1, final_text_2 = comparator(v0, v1)"
      ]
    },
    {
      "cell_type": "code",
      "execution_count": 60,
      "metadata": {
        "colab": {
          "base_uri": "https://localhost:8080/",
          "height": 1000
        },
        "id": "pXwFn_o3fKnP",
        "outputId": "ba800163-3cce-4047-c214-413c93da8780"
      },
      "outputs": [
        {
          "data": {
            "text/plain": [
              "'**AWS Glue Service Level Agree** ment\\n\\nLast Updated: **Ma** y 2, 20**22** \\nThis AWS Glue Service Level Agreement (“SLA”) is a policy governing the use of **the Included Services (listed below** ) and applies separately to each account using **the Included Services** . In the event of a conflict between the terms of this SLA and the terms of the AWS Customer Agreement or other agreement with us governing your use of our Services (the “Agreement”), the terms and conditions of this SLA apply, but only to the extent of such conflict. Capitalized terms used herein but not defined herein shall have the meanings set forth in the Agreement.\\n\\n**Included** Services\\n\\n**•\\tAWS Glue Studio, AWS Glue Crawlers, AWS Glue Data Catalog, AWS Glue Schema Registry, and AWS Glue ETL (\"Glue ETL Services\")** \\n**•\\tAWS Glue DataBrew (“Glue DataBrew”)** \\nService Commitment\\n\\nAWS will use commercially reasonable efforts to make **each Included Servic** e available with a Monthly Uptime Percentage for each AWS region, during any monthly billing cycle, of at least 99.9% (the “Service Commitment”). In the event **an Included Servic** e does not meet the Service Commitment, you will be eligible to receive a Service Credit as described below.\\n\\nService Credits\\n\\nService Credits are calculated as a percentage of the charges paid by you for **the applicable Included Service in the affected AWS region**  for the monthly billing cycle in which the Monthly Uptime Percentage for a given AWS region fell within the ranges set forth in the table below:\\n\\nMonthly Uptime Percentage\\tService Credit Percentage\\n\\nLess than 99.9% but **equal to or** greater than 99**.0** %\\t10%\\n\\nLess than 99.**0** % but **equal to or** greater than **95.0%\\t25** %\\n\\nLess than 9**5.0%\\t100** %\\n\\nWe will apply any Service Credits only against future payments otherwise due from you**for the Included Service** . At our discretion, we may issue the Service Credits to the credit card you used to pay for the billing cycle in which the **Included Service did not meet the Service Commitment** . Service Credits will not entitle you to any refund or other payment from AWS. Service Credits will be applicable and issued only if the credit amount for the applicable monthly billing cycle is greater than one dollar ($1 USD). Service Credits may not be transferred or applied to any other account. Unless otherwise provided in the Agreement, your sole and exclusive remedy for any unavailability or non-performance or other failure by us to provide **the Included Services**  is the receipt of Service Credits (if eligible) in accordance with the terms of this SLA.\\n\\nCredit Request and Payment Procedures\\n\\nTo receive Service Credits, you will need to submit a claim by opening a case in the AWS Support Center. To be eligible, the credit request must be received by us by the end of the second billing cycle after which the incident occurred and must include:\\n\\n(i) the words “SLA Credit Request” in the subject line;\\n\\n(ii) the billing cycle and AWS regions with respect to which you are claiming Service Credits, together with the Monthly Uptime Percentage for that AWS region for the billing cycle and the specific dates, times, and **a** vailabilities for each 5-minute interval with less than 100% **a** vailability in that AWS region throughout the billing cycle;\\n\\n(iii) your Request or Job Run logs that document the errors for your claimed outage (any confidential or sensitive information in these logs should be removed or replaced with asterisks).\\n\\nIf the Monthly Uptime Percentage of such credit request is confirmed by us and is less than the **applicable** Service Commitment, then we will issue the Service Credits to you within one billing cycle following the month in which the credit request occurred. Your failure to provide the credit request and other information as required above will disqualify you from receiving Service Credits.\\n\\nAWS Glue SLA Exclusions\\n\\nThe Service Commitment does not apply to any unavailability, suspension, or termination of **an Included Servic** e, or any other **Included Servic** e performance issues: (i) caused by factors outside of our reasonable control, including any force majeure event or Internet access or related problems beyond the demarcation point of **the Included Servic** e; (ii) that result from any voluntary actions or inactions from you; (iii) that result from you not following the **recommendation** s described in the AWS Glue **Documentation**  on the AWS Site; (iv) that result from your equipment, software or other technology; or (v) arising from our suspension or termination of your right to use **the Included Servic** e in accordance with the Agreement (collectively, the “AWS Glue SLA Exclusions”). If availability is impacted by factors other than those explicitly used in our Monthly Uptime Percentage calculation, then we may issue a Service Credit considering such factors at our discretion.\\nDefinitions\\n\\n•\\t“API Availability” is calculated for each 5-minute interval as the percentage of Requests processed by **the Included Servic** e that do not fail with Errors. If you did not make any Requests in a given 5-minute interval, that interval is assumed to be 100% available.\\n\\n•\\tAn “Error” is any Request that returns a 500 (Internal Failure) or 503 (Service Unavailable) error code.\\n\\n**•\\t\"Job Run Availability”:** \\n**o\\tFor Glue ETL Services,**  is calculated for each 5-minute interval as the percentage of **Glue ETL Services** Job Runs scheduled or run on-demand by invoking StartJobRun or StartTrigger API that do not result in a Failure. If you did not have any **Glue ETL Services** Job Runs scheduled or triggered in a given 5-minute interval, that interval is assumed to be 100% available.\\n\\n**o\\tFor Glue DataBrew,**  is calculated for each 5-minute interval as the percentage of **Glue DataBrew** Job Runs scheduled or run on-demand that do not result in a Failure. If you did not have any **Glue DataBrew** Job Runs scheduled or **start** ed in a given 5-minute interval, that interval is assumed to be 100% available.\\n\\n•\\tA “Failure” is any **Glue ETL Services Job Run or Glue DataBrew Job Run, as applicable, that returns an error with the text ‘** Resource Unavailable.**’** \\n•\\tA “**Glue DataBrew** Job Run” is the execution of a job, which is the business logic required to perform **recipe or profiling work on a dataset. Glue DataBrew Job Runs are initiated by schedule** s.\\n\\n•\\tA “**Glue ETL Services** Job Run” is the execution of a job, which is the business logic required to perform extract, transform, and load (ETL) work and which is composed of a transformation script, data sources, and data targets.**Glue ETL Services**  Job Runs are initiated by triggers that can be scheduled or triggered by events.\\n\\n•\\t“Monthly Uptime Percentage” for a given AWS region is calculated for a monthly billing cycle as the lower of (a) the average of the API Availability for **the Included Service for** all 5-minute intervals in the monthly billing cycle, or (b) the average of the **Job Run**  Availability for **the Included Service for** all 5-minute intervals in the monthly billing cycle. Monthly Uptime Percentage measurements exclude downtime resulting directly or indirectly from any AWS Glue SLA Exclusion**s** .\\n\\n**•\\tA “Request” means:** \\n**o\\tFor Glue ETL Services,**  an invocation of any Glue**ETL Services**  API.\\n\\n**o\\tFor Glue DataBrew,**  an invocation of any Glue**DataBrew**  API.\\n\\n•\\tA “Service Credit” is a dollar credit, calculated as set forth above, that we may credit back to an eligible account.\\n\\n'"
            ]
          },
          "execution_count": 60,
          "metadata": {},
          "output_type": "execute_result"
        }
      ],
      "source": [
        "str1 = convert_list_to_string(final_text_1)\n",
        "str2 = convert_list_to_string(final_text_2)\n",
        "str2"
      ]
    },
    {
      "cell_type": "code",
      "execution_count": 51,
      "metadata": {
        "id": "oA4Xlq_4fjB1"
      },
      "outputs": [],
      "source": [
        "textos = [str1, str2]"
      ]
    },
    {
      "cell_type": "code",
      "execution_count": 52,
      "metadata": {
        "colab": {
          "base_uri": "https://localhost:8080/"
        },
        "id": "Uo6lnv4Sfs3T",
        "outputId": "a49dd606-fd59-4081-b20f-eed4b62ba632"
      },
      "outputs": [
        {
          "name": "stdout",
          "output_type": "stream",
          "text": [
            "Procesando con Spacy...\n",
            "Hecho.\n"
          ]
        }
      ],
      "source": [
        "print(\"Procesando con Spacy...\")\n",
        "docs = list(nlp.pipe(textos))\n",
        "print(\"Hecho.\")"
      ]
    },
    {
      "cell_type": "code",
      "execution_count": 58,
      "metadata": {},
      "outputs": [],
      "source": [
        "sents_test = []\n",
        "\n",
        "for sent in list(docs[1].sents):\n",
        "  sentence = str(sent)\n",
        "  if \"**\" in sentence:\n",
        "    sents_test.append(sentence)"
      ]
    },
    {
      "cell_type": "code",
      "execution_count": 59,
      "metadata": {},
      "outputs": [
        {
          "name": "stdout",
          "output_type": "stream",
          "text": [
            "                                                text\n",
            "0  **AWS Glue Service Level Agree** ment\\n\\nLast ...\n",
            "1  This AWS Glue Service Level Agreement (“SLA”) ...\n",
            "2  **Included** Services\\n\\n**•\\tAWS Glue Studio,...\n",
            "3  Glue Crawlers, AWS Glue Data Catalog, AWS Glue...\n",
            "4  In the event **an Included Servic** e does not...\n"
          ]
        }
      ],
      "source": [
        "df = pd.DataFrame(sents_test, columns=[\"text\"])\n",
        "df.to_csv(\"test.csv\", index=False, encoding='utf-8')\n",
        "print(df.head())"
      ]
    }
  ],
  "metadata": {
    "colab": {
      "provenance": []
    },
    "kernelspec": {
      "display_name": "Python 3",
      "language": "python",
      "name": "python3"
    },
    "language_info": {
      "codemirror_mode": {
        "name": "ipython",
        "version": 3
      },
      "file_extension": ".py",
      "mimetype": "text/x-python",
      "name": "python",
      "nbconvert_exporter": "python",
      "pygments_lexer": "ipython3",
      "version": "3.10.9"
    },
    "vscode": {
      "interpreter": {
        "hash": "f6f6b64bf5e9684ec218c93f1054efd2bd99a0ffab4ebd29cafffb9a6ca3b770"
      }
    }
  },
  "nbformat": 4,
  "nbformat_minor": 0
}
