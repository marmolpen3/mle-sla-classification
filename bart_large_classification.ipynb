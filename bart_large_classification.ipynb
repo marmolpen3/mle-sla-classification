{
 "cells": [
  {
   "cell_type": "code",
   "execution_count": null,
   "metadata": {},
   "outputs": [],
   "source": [
    "!pip install transformers"
   ]
  },
  {
   "cell_type": "code",
   "execution_count": null,
   "metadata": {},
   "outputs": [],
   "source": [
    "from transformers import pipeline\n",
    "\n",
    "classifier = pipeline(\"zero-shot-classification\", model=\"facebook/bart-large-mnli\")\n",
    "\n",
    "def classification(text):\n",
    "    sequence_to_classify = text\n",
    "    candidate_labels = ['Service', 'Measure', 'Objective', 'Remedy', 'Claim', 'Exception', 'Definition']\n",
    "    return classifier(sequence_to_classify, candidate_labels, multi_label=True)"
   ]
  },
  {
   "cell_type": "code",
   "execution_count": null,
   "metadata": {},
   "outputs": [],
   "source": [
    "sents_with_changes = []\n",
    "for sent in list(docs[0].sents):\n",
    "    sentence = str(sent)\n",
    "    if \"**\" in sentence:\n",
    "        sents_with_changes.append(sentence)"
   ]
  },
  {
   "cell_type": "code",
   "execution_count": null,
   "metadata": {},
   "outputs": [],
   "source": [
    "i=1\n",
    "dic = {'Service': [], 'Measure': [], 'Objective': [], 'Remedy': [], 'Claim': [], 'Exception': [], 'Definition': []}\n",
    "dic_details = {}\n",
    "for sentence in sents_with_changes:\n",
    "  c_like = classification(sentence)\n",
    "  category = c_like['labels'][c_like['scores'].index(max(c_like['scores']))]\n",
    "  dic.get(category).append(sentence)\n",
    "  dic_details[sentence] = [c_like['labels'], c_like['scores']]\n",
    "  i = i+1\n",
    "print(dic)"
   ]
  },
  {
   "cell_type": "code",
   "execution_count": null,
   "metadata": {},
   "outputs": [],
   "source": [
    "import matplotlib as mpl\n",
    "import matplotlib.pyplot as plt\n",
    "import numpy as np\n",
    "\n",
    "fig, ax = plt.subplots() \n",
    "ax.plot(['Service', 'Measure', 'Objective', 'Remedy', 'Claim', 'Exception', 'Definition'], [len(dic['Service']), len(dic['Measure']), len(dic['Objective']), len(dic['Remedy']), len(dic['Claim']), len(dic['Exception']), len(dic['Definition'])]); "
   ]
  }
 ],
 "metadata": {
  "kernelspec": {
   "display_name": "Python 3",
   "language": "python",
   "name": "python3"
  },
  "language_info": {
   "name": "python",
   "version": "3.10.9"
  },
  "orig_nbformat": 4,
  "vscode": {
   "interpreter": {
    "hash": "f6f6b64bf5e9684ec218c93f1054efd2bd99a0ffab4ebd29cafffb9a6ca3b770"
   }
  }
 },
 "nbformat": 4,
 "nbformat_minor": 2
}
