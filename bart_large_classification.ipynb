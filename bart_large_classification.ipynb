{
 "cells": [
  {
   "attachments": {},
   "cell_type": "markdown",
   "metadata": {},
   "source": [
    "# Clasificación de tiro de cero con Bart Large"
   ]
  },
  {
   "attachments": {},
   "cell_type": "markdown",
   "metadata": {},
   "source": [
    "En este notebook se muestra un ejemplo de los resultados que se obtienen si tratamos de clasificar sentencias en múltiples categorías con un modelo que no ha sido entrenado para resolver esta tarea."
   ]
  },
  {
   "cell_type": "code",
   "execution_count": null,
   "metadata": {},
   "outputs": [],
   "source": [
    "!pip install transformers\n",
    "!pip install datasets"
   ]
  },
  {
   "cell_type": "code",
   "execution_count": 28,
   "metadata": {},
   "outputs": [],
   "source": [
    "from transformers import pipeline\n",
    "from datasets import load_dataset, DatasetDict, Dataset\n",
    "from sklearn.metrics import accuracy_score\n",
    "import numpy as np"
   ]
  },
  {
   "attachments": {},
   "cell_type": "markdown",
   "metadata": {},
   "source": [
    "Importamos el modelo facebook/bart-large-mnli"
   ]
  },
  {
   "cell_type": "code",
   "execution_count": 38,
   "metadata": {},
   "outputs": [],
   "source": [
    "classifier = pipeline(\"zero-shot-classification\", model=\"facebook/bart-large-mnli\")\n",
    "\n",
    "def classification(text):\n",
    "    sequence_to_classify = text\n",
    "    candidate_labels = ['service', 'metric', 'objective', 'remedy', 'claim', 'exception', 'definition']\n",
    "    return classifier(sequence_to_classify, candidate_labels, multi_label=True)"
   ]
  },
  {
   "cell_type": "code",
   "execution_count": null,
   "metadata": {},
   "outputs": [],
   "source": [
    "data_files = {\"validation\": \"validation.csv\"}\n",
    "dataset = load_dataset(\"csv\", data_files=data_files)\n",
    "\n",
    "dataset"
   ]
  },
  {
   "cell_type": "code",
   "execution_count": 62,
   "metadata": {},
   "outputs": [],
   "source": [
    "sents_test = dataset['validation'][:]['text']"
   ]
  },
  {
   "attachments": {},
   "cell_type": "markdown",
   "metadata": {},
   "source": [
    "Aplicamos el modelo al conjunto de sentencias."
   ]
  },
  {
   "cell_type": "code",
   "execution_count": 63,
   "metadata": {},
   "outputs": [],
   "source": [
    "i=1\n",
    "dic_details = {}\n",
    "for sentence in sents_test:\n",
    "  c_like = classification(sentence)\n",
    "  results = [1 if x > 0.5 else 0 for x in c_like['scores']]\n",
    "  dic_details[sentence] = results\n",
    "  i = i+1"
   ]
  },
  {
   "attachments": {},
   "cell_type": "markdown",
   "metadata": {},
   "source": [
    "Obtenemos las labels del conjunto de validación"
   ]
  },
  {
   "cell_type": "code",
   "execution_count": 65,
   "metadata": {},
   "outputs": [],
   "source": [
    "labels = [label for label in dataset['validation'].features.keys() if label not in ['text', 'obligation', 'right', 'neither']]\n",
    "\n",
    "def preprocess_data(examples):\n",
    "    text = examples[\"text\"]\n",
    "    labels_batch = {k: examples[k] for k in examples.keys() if k in labels}\n",
    "    labels_matrix = np.zeros((len(text), len(labels)))\n",
    "    for idx, label in enumerate(labels):\n",
    "        labels_matrix[:, idx] = labels_batch[label]\n",
    "\n",
    "    examples[\"labels\"] = labels_matrix.tolist()\n",
    "    \n",
    "    return examples"
   ]
  },
  {
   "cell_type": "code",
   "execution_count": 66,
   "metadata": {},
   "outputs": [
    {
     "name": "stderr",
     "output_type": "stream",
     "text": [
      "Loading cached processed dataset at C:\\Users\\elena\\.cache\\huggingface\\datasets\\csv\\default-3efa38e8206a7f29\\0.0.0\\6b34fb8fcf56f7c8ba51dc895bfa2bfbe43546f190a60fcf74bb5e8afdcc2317\\cache-536ca14b77fc3b57.arrow\n"
     ]
    },
    {
     "data": {
      "text/plain": [
       "DatasetDict({\n",
       "    validation: Dataset({\n",
       "        features: ['text', 'labels'],\n",
       "        num_rows: 51\n",
       "    })\n",
       "})"
      ]
     },
     "execution_count": 66,
     "metadata": {},
     "output_type": "execute_result"
    }
   ],
   "source": [
    "cols_to_remove = dataset['validation'].column_names\n",
    "cols_to_remove.remove('text')\n",
    "real_results = dataset.map(preprocess_data, batched=True, remove_columns=cols_to_remove)\n",
    "real_results"
   ]
  },
  {
   "attachments": {},
   "cell_type": "markdown",
   "metadata": {},
   "source": [
    "Obtenemos los resultados clasificados manualmente y los determinados por el modelo."
   ]
  },
  {
   "cell_type": "code",
   "execution_count": 72,
   "metadata": {},
   "outputs": [],
   "source": [
    "results = real_results['validation'][:]['labels']\n",
    "predictions = [list(dic_details.values())[i] for i in range(len(dic_details))]\n",
    "predictions = np.array(predictions).astype(np.float32).tolist()"
   ]
  },
  {
   "cell_type": "code",
   "execution_count": 73,
   "metadata": {},
   "outputs": [
    {
     "name": "stdout",
     "output_type": "stream",
     "text": [
      "Accuracy: 0.2549019607843137\n"
     ]
    }
   ],
   "source": [
    "\n",
    "accuracy = accuracy_score(results, predictions)\n",
    "print(\"Accuracy:\", accuracy)"
   ]
  },
  {
   "attachments": {},
   "cell_type": "markdown",
   "metadata": {},
   "source": [
    "Para la realización de este notebook se ha tomado de referencia algunos de los recursos disponibles en Hugging face. Por ejemplo:\n",
    "\n",
    "- **BART**: https://huggingface.co/docs/transformers/model_doc/bart\n",
    "- **NLI-based Zero Shot Text Classification**: https://huggingface.co/facebook/bart-large-mnli"
   ]
  }
 ],
 "metadata": {
  "kernelspec": {
   "display_name": "Python 3",
   "language": "python",
   "name": "python3"
  },
  "language_info": {
   "codemirror_mode": {
    "name": "ipython",
    "version": 3
   },
   "file_extension": ".py",
   "mimetype": "text/x-python",
   "name": "python",
   "nbconvert_exporter": "python",
   "pygments_lexer": "ipython3",
   "version": "3.10.9"
  },
  "orig_nbformat": 4,
  "vscode": {
   "interpreter": {
    "hash": "f6f6b64bf5e9684ec218c93f1054efd2bd99a0ffab4ebd29cafffb9a6ca3b770"
   }
  }
 },
 "nbformat": 4,
 "nbformat_minor": 2
}
